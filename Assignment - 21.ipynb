{
 "cells": [
  {
   "cell_type": "code",
   "execution_count": null,
   "id": "175c41d6",
   "metadata": {},
   "outputs": [],
   "source": [
    "Question 1"
   ]
  },
  {
   "cell_type": "code",
   "execution_count": 2,
   "id": "22050e24",
   "metadata": {},
   "outputs": [],
   "source": [
    "from datetime import date\n",
    "now = date.today()\n",
    "now_str = now.isoformat()\n",
    "with open('today.txt', 'wt') as output:\n",
    "    print(now_str, file=output)"
   ]
  },
  {
   "cell_type": "code",
   "execution_count": null,
   "id": "5a33875f",
   "metadata": {},
   "outputs": [],
   "source": [
    "Question 2"
   ]
  },
  {
   "cell_type": "code",
   "execution_count": 3,
   "id": "c330bcc7",
   "metadata": {},
   "outputs": [
    {
     "data": {
      "text/plain": [
       "'2023-06-06\\n'"
      ]
     },
     "execution_count": 3,
     "metadata": {},
     "output_type": "execute_result"
    }
   ],
   "source": [
    "with open('today.txt', 'rt') as input:\n",
    "    today_string = input.read()\n",
    "    \n",
    "today_string"
   ]
  },
  {
   "cell_type": "code",
   "execution_count": null,
   "id": "7f2d87d0",
   "metadata": {},
   "outputs": [],
   "source": [
    "Question 3"
   ]
  },
  {
   "cell_type": "code",
   "execution_count": 4,
   "id": "cc04c103",
   "metadata": {},
   "outputs": [
    {
     "data": {
      "text/plain": [
       "datetime.datetime(2023, 6, 6, 0, 0)"
      ]
     },
     "execution_count": 4,
     "metadata": {},
     "output_type": "execute_result"
    }
   ],
   "source": [
    "from datetime import datetime\n",
    "fmt = '%Y-%m-%d\\n'\n",
    "datetime.strptime(today_string, fmt)"
   ]
  },
  {
   "cell_type": "code",
   "execution_count": null,
   "id": "844bc492",
   "metadata": {},
   "outputs": [],
   "source": [
    "Question 4"
   ]
  },
  {
   "cell_type": "code",
   "execution_count": 5,
   "id": "18c985d4",
   "metadata": {},
   "outputs": [
    {
     "data": {
      "text/plain": [
       "['.conda',\n",
       " '.condarc',\n",
       " '.continuum',\n",
       " '.ipynb_checkpoints',\n",
       " '.ipython',\n",
       " '.jupyter',\n",
       " '.ms-ad',\n",
       " '3D Objects',\n",
       " 'anaconda3',\n",
       " 'Anonymous Function.ipynb',\n",
       " 'AppData',\n",
       " 'Application Data',\n",
       " 'Assignment - 1.ipynb',\n",
       " 'Assignment - 10.ipynb',\n",
       " 'Assignment - 11.ipynb',\n",
       " 'Assignment - 12.ipynb',\n",
       " 'Assignment - 13.ipynb',\n",
       " 'Assignment - 15.ipynb',\n",
       " 'Assignment - 16.ipynb',\n",
       " 'Assignment - 17.ipynb',\n",
       " 'Assignment - 19.ipynb',\n",
       " 'Assignment - 2.ipynb',\n",
       " 'Assignment - 20.ipynb',\n",
       " 'Assignment - 6.ipynb',\n",
       " 'Assignment - 7.ipynb',\n",
       " 'Assignment - 9.ipynb',\n",
       " 'Assignment 14.ipynb',\n",
       " 'Assignments - 3 .ipynb',\n",
       " 'Assignments - 4.ipynb',\n",
       " 'Assignments - 5.ipynb',\n",
       " 'Basic Of LOOP.ipynb',\n",
       " 'books.csv',\n",
       " 'books.db',\n",
       " 'Coding.ipynb',\n",
       " 'Condition & Its Types (IF , Elif , Else).ipynb',\n",
       " 'Contacts',\n",
       " 'Cookies',\n",
       " 'Desktop',\n",
       " 'Different Types Of Variables .ipynb',\n",
       " 'Documents',\n",
       " 'Downloads',\n",
       " 'error 2.ipynb',\n",
       " 'error 3.ipynb',\n",
       " 'error.ipynb',\n",
       " 'Fall Loop .ipynb',\n",
       " 'Favorites',\n",
       " 'First Class Of Coding.ipynb',\n",
       " \"For, Break, Fall & Internal Loop's (Part - 1).ipynb\",\n",
       " 'Function (Part 1) 5 - 6 - 2022.ipynb',\n",
       " 'Function 29-5-22.ipynb',\n",
       " 'Functions (Part2) 5-6-2022.ipynb',\n",
       " 'Intro of LOOP & FOR LOOP.ipynb',\n",
       " 'jupyter',\n",
       " 'Links',\n",
       " 'List & Its Types - Part 1.ipynb',\n",
       " 'List,Tuple,Dictionary,set.ipynb',\n",
       " 'List.ipynb',\n",
       " 'Local Settings',\n",
       " 'Making Of Own Functions - 2.ipynb',\n",
       " 'Making Of Own Functions Part - 3.ipynb',\n",
       " 'Making Of Own Functions.ipynb',\n",
       " 'Multiple Conditions Inside A Condition.ipynb',\n",
       " 'Music',\n",
       " 'My Documents',\n",
       " 'NetHood',\n",
       " 'new.zip',\n",
       " 'notepad',\n",
       " 'NTUSER.DAT',\n",
       " 'ntuser.dat.LOG1',\n",
       " 'ntuser.dat.LOG2',\n",
       " 'NTUSER.DAT{e493d5fb-bb4a-11ed-a5f0-bffb52e6bf00}.TxR.0.regtrans-ms',\n",
       " 'NTUSER.DAT{e493d5fb-bb4a-11ed-a5f0-bffb52e6bf00}.TxR.1.regtrans-ms',\n",
       " 'NTUSER.DAT{e493d5fb-bb4a-11ed-a5f0-bffb52e6bf00}.TxR.2.regtrans-ms',\n",
       " 'NTUSER.DAT{e493d5fb-bb4a-11ed-a5f0-bffb52e6bf00}.TxR.blf',\n",
       " 'NTUSER.DAT{e493d5fc-bb4a-11ed-a5f0-bffb52e6bf00}.TM.blf',\n",
       " 'NTUSER.DAT{e493d5fc-bb4a-11ed-a5f0-bffb52e6bf00}.TMContainer00000000000000000001.regtrans-ms',\n",
       " 'NTUSER.DAT{e493d5fc-bb4a-11ed-a5f0-bffb52e6bf00}.TMContainer00000000000000000002.regtrans-ms',\n",
       " 'ntuser.ini',\n",
       " 'OneDrive',\n",
       " 'Pictures',\n",
       " 'PrintHood',\n",
       " 'Recent',\n",
       " 'Saved Games',\n",
       " 'Searches',\n",
       " 'SendTo',\n",
       " 'Start Menu',\n",
       " 'String Variables & Its Sub Types - 2.ipynb',\n",
       " 'String Variables & Its Sub Types - 3.ipynb',\n",
       " 'Templates',\n",
       " 'Test.ipynb',\n",
       " 'test.txt',\n",
       " 'today.txt',\n",
       " 'Tracing',\n",
       " 'Untitled.ipynb',\n",
       " 'untitled.txt',\n",
       " 'Untitled1.ipynb',\n",
       " 'Untitled10.ipynb',\n",
       " 'Untitled11.ipynb',\n",
       " 'Untitled12.ipynb',\n",
       " 'Untitled13.ipynb',\n",
       " 'Untitled14.ipynb',\n",
       " 'Untitled15.ipynb',\n",
       " 'Untitled16.ipynb',\n",
       " 'Untitled17.ipynb',\n",
       " 'Untitled18.ipynb',\n",
       " 'Untitled19.ipynb',\n",
       " 'Untitled2.ipynb',\n",
       " 'Untitled20.ipynb',\n",
       " 'Untitled21.ipynb',\n",
       " 'Untitled22.ipynb',\n",
       " 'Untitled23.ipynb',\n",
       " 'Untitled24.ipynb',\n",
       " 'Untitled25.ipynb',\n",
       " 'Untitled26.ipynb',\n",
       " 'Untitled3.ipynb',\n",
       " 'Untitled4.ipynb',\n",
       " 'Untitled5.ipynb',\n",
       " 'Untitled6.ipynb',\n",
       " 'Untitled7.ipynb',\n",
       " 'Untitled8.ipynb',\n",
       " 'Untitled9.ipynb',\n",
       " 'Variable In Python Intro.ipynb',\n",
       " 'Videos',\n",
       " 'While Loop (Part -2).ipynb',\n",
       " 'While Loop.ipynb',\n",
       " 'wrong one.ipynb']"
      ]
     },
     "execution_count": 5,
     "metadata": {},
     "output_type": "execute_result"
    }
   ],
   "source": [
    "import os\n",
    "os.listdir('.')"
   ]
  },
  {
   "cell_type": "code",
   "execution_count": null,
   "id": "d38c2e09",
   "metadata": {},
   "outputs": [],
   "source": [
    "Question 5"
   ]
  },
  {
   "cell_type": "code",
   "execution_count": 6,
   "id": "67ba8079",
   "metadata": {},
   "outputs": [
    {
     "data": {
      "text/plain": [
       "['All Users',\n",
       " 'banda',\n",
       " 'Default',\n",
       " 'Default User',\n",
       " 'defaultuser100000',\n",
       " 'desktop.ini',\n",
       " 'Public']"
      ]
     },
     "execution_count": 6,
     "metadata": {},
     "output_type": "execute_result"
    }
   ],
   "source": [
    "os.listdir('..')"
   ]
  },
  {
   "cell_type": "code",
   "execution_count": null,
   "id": "408cde3a",
   "metadata": {},
   "outputs": [],
   "source": [
    "Question 6"
   ]
  },
  {
   "cell_type": "code",
   "execution_count": null,
   "id": "2fb3d367",
   "metadata": {},
   "outputs": [],
   "source": []
  },
  {
   "cell_type": "code",
   "execution_count": null,
   "id": "38c3bb33",
   "metadata": {},
   "outputs": [],
   "source": [
    "Question 7"
   ]
  },
  {
   "cell_type": "code",
   "execution_count": 9,
   "id": "6c48c95a",
   "metadata": {},
   "outputs": [
    {
     "data": {
      "text/plain": [
       "datetime.date(2000, 6, 7)"
      ]
     },
     "execution_count": 9,
     "metadata": {},
     "output_type": "execute_result"
    }
   ],
   "source": [
    "my_day = date(2000, 6, 7)\n",
    "my_day"
   ]
  },
  {
   "cell_type": "code",
   "execution_count": null,
   "id": "63e0ca17",
   "metadata": {},
   "outputs": [],
   "source": [
    "Question 8"
   ]
  },
  {
   "cell_type": "code",
   "execution_count": null,
   "id": "ed0ea2d7",
   "metadata": {},
   "outputs": [],
   "source": [
    "With weekday(), Monday is 0 and Sunday is 6. With isoweekday(), Monday is 1 and\n",
    "\n",
    "Sunday is 7. Therefore, this date is a Saturday."
   ]
  },
  {
   "cell_type": "code",
   "execution_count": 10,
   "id": "9aaaf3d1",
   "metadata": {},
   "outputs": [
    {
     "data": {
      "text/plain": [
       "2"
      ]
     },
     "execution_count": 10,
     "metadata": {},
     "output_type": "execute_result"
    }
   ],
   "source": [
    "my_day.weekday()"
   ]
  },
  {
   "cell_type": "code",
   "execution_count": 11,
   "id": "5039fce9",
   "metadata": {},
   "outputs": [
    {
     "data": {
      "text/plain": [
       "3"
      ]
     },
     "execution_count": 11,
     "metadata": {},
     "output_type": "execute_result"
    }
   ],
   "source": [
    "my_day.isoweekday()"
   ]
  },
  {
   "cell_type": "code",
   "execution_count": null,
   "id": "5a58c05b",
   "metadata": {},
   "outputs": [],
   "source": [
    "Question 9"
   ]
  },
  {
   "cell_type": "code",
   "execution_count": 12,
   "id": "ca14f58f",
   "metadata": {},
   "outputs": [
    {
     "data": {
      "text/plain": [
       "datetime.date(2027, 10, 24)"
      ]
     },
     "execution_count": 12,
     "metadata": {},
     "output_type": "execute_result"
    }
   ],
   "source": [
    "from datetime import timedelta\n",
    "ten_thousand = my_day + timedelta(days=10000)\n",
    "ten_thousand"
   ]
  }
 ],
 "metadata": {
  "kernelspec": {
   "display_name": "Python 3 (ipykernel)",
   "language": "python",
   "name": "python3"
  },
  "language_info": {
   "codemirror_mode": {
    "name": "ipython",
    "version": 3
   },
   "file_extension": ".py",
   "mimetype": "text/x-python",
   "name": "python",
   "nbconvert_exporter": "python",
   "pygments_lexer": "ipython3",
   "version": "3.9.7"
  }
 },
 "nbformat": 4,
 "nbformat_minor": 5
}
